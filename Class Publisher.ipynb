{
 "cells": [
  {
   "cell_type": "code",
   "execution_count": 6,
   "id": "be5326f9-5cc9-4265-b601-2e846a8bd955",
   "metadata": {},
   "outputs": [
    {
     "name": "stdout",
     "output_type": "stream",
     "text": [
      "Publisher Name: Penguin Books\n",
      "Title: Harry Potter\n",
      "Author: J.K Rowling\n",
      "Price: 560\n",
      "No of Pages: 400\n"
     ]
    }
   ],
   "source": [
    "class Publisher:\n",
    "    def __init__(self,name):\n",
    "        self.name=name\n",
    "\n",
    "class Book:\n",
    "    def __init__(self,name,title,author):\n",
    "        Publisher.__init__(self,name)\n",
    "        self.title=title\n",
    "        self.author=author\n",
    "\n",
    "class Python:\n",
    "    def __init__(self,name,title,author,price,no_of_pages):\n",
    "        Book.__init__(self,name,title,author)\n",
    "        self.price=price\n",
    "        self.no_of_pages=no_of_pages\n",
    "\n",
    "    def display(self):\n",
    "        print(\"Publisher Name:\",self.name)\n",
    "        print(\"Title:\",self.title)\n",
    "        print(\"Author:\",self.author)\n",
    "        print(\"Price:\",self.price)\n",
    "        print(\"No of Pages:\",self.no_of_pages)\n",
    "\n",
    "book1=Python(\"Penguin Books\",\"Harry Potter\",\"J.K Rowling\",560,400)\n",
    "book1.display()"
   ]
  },
  {
   "cell_type": "code",
   "execution_count": null,
   "id": "672b99c1-4522-4861-87bf-eae19c2a5cc9",
   "metadata": {},
   "outputs": [],
   "source": []
  }
 ],
 "metadata": {
  "kernelspec": {
   "display_name": "Python 3 (ipykernel)",
   "language": "python",
   "name": "python3"
  },
  "language_info": {
   "codemirror_mode": {
    "name": "ipython",
    "version": 3
   },
   "file_extension": ".py",
   "mimetype": "text/x-python",
   "name": "python",
   "nbconvert_exporter": "python",
   "pygments_lexer": "ipython3",
   "version": "3.11.5"
  }
 },
 "nbformat": 4,
 "nbformat_minor": 5
}
