{
 "cells": [
  {
   "cell_type": "code",
   "execution_count": 12,
   "id": "a2ed5815-b593-4014-82d6-5a367a1c848a",
   "metadata": {},
   "outputs": [
    {
     "name": "stdin",
     "output_type": "stream",
     "text": [
      "Enter the account no:  5\n",
      "Enter the account name:  dasdas\n",
      "Enter the account type:  adas\n",
      "Enter the balance:  646\n"
     ]
    },
    {
     "name": "stdout",
     "output_type": "stream",
     "text": [
      "Account Number: 5\n",
      "Account name: dasdas\n",
      "Account type: adas\n",
      "Account Balance: 646.0\n"
     ]
    },
    {
     "name": "stdin",
     "output_type": "stream",
     "text": [
      "Enter the amount to be deposited:  161\n"
     ]
    },
    {
     "name": "stdout",
     "output_type": "stream",
     "text": [
      "The amount deposited is 161.0 and the balance is 807.0\n"
     ]
    },
    {
     "name": "stdin",
     "output_type": "stream",
     "text": [
      "Enter the amount to be withdrawn:  797\n"
     ]
    },
    {
     "name": "stdout",
     "output_type": "stream",
     "text": [
      "The amount withdrawn is 797.0 and the balance is 10.0\n"
     ]
    }
   ],
   "source": [
    "class Bank:\n",
    "    def __init__(self, account_no, account_name, type_of_account, balance):\n",
    "        self.account_no = account_no\n",
    "        self.account_name = account_name\n",
    "        self.type_of_account = type_of_account\n",
    "        self.balance = balance\n",
    "\n",
    "    def deposit(self, amount):\n",
    "        if amount > 0:\n",
    "            self.balance += amount\n",
    "            return self.balance\n",
    "        else:\n",
    "            return \"Invalid Input\"\n",
    "\n",
    "    def withdraw(self, amount):\n",
    "        if amount <= self.balance:\n",
    "            self.balance -= amount\n",
    "            return self.balance\n",
    "        else:\n",
    "            return \"Amount can't be withdrawn\"\n",
    "\n",
    "account_no = int(input(\"Enter the account no: \"))\n",
    "name = input(\"Enter the account name: \")\n",
    "acctype = input(\"Enter the account type: \")\n",
    "balance = float(input(\"Enter the balance: \"))\n",
    "\n",
    "account = Bank(account_no, name, acctype, balance)\n",
    "\n",
    "print(f\"Account Number: {account.account_no}\\nAccount name: {account.account_name}\\nAccount type: {account.type_of_account}\\nAccount Balance: {account.balance}\")\n",
    "\n",
    "dep_amount = float(input(\"Enter the amount to be deposited: \"))\n",
    "new_balance = account.deposit(dep_amount)\n",
    "print(f\"The amount deposited is {dep_amount} and the balance is {new_balance}\")\n",
    "\n",
    "wd_amount = float(input(\"Enter the amount to be withdrawn: \"))\n",
    "new_balance2 = account.withdraw(wd_amount)\n",
    "print(f\"The amount withdrawn is {wd_amount} and the balance is {new_balance2}\")\n",
    "\n"
   ]
  }
 ],
 "metadata": {
  "kernelspec": {
   "display_name": "Python 3 (ipykernel)",
   "language": "python",
   "name": "python3"
  },
  "language_info": {
   "codemirror_mode": {
    "name": "ipython",
    "version": 3
   },
   "file_extension": ".py",
   "mimetype": "text/x-python",
   "name": "python",
   "nbconvert_exporter": "python",
   "pygments_lexer": "ipython3",
   "version": "3.11.5"
  }
 },
 "nbformat": 4,
 "nbformat_minor": 5
}
