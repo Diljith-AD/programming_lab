{
 "cells": [
  {
   "cell_type": "code",
   "execution_count": 3,
   "id": "de6bba13",
   "metadata": {},
   "outputs": [],
   "source": [
    "filename=open(r\"demo.txt\")\n",
    "for lines in filename:\n",
    "    print(list(lines.read()))"
   ]
  },
  {
   "cell_type": "code",
   "execution_count": 50,
   "id": "4b3e3d0c",
   "metadata": {},
   "outputs": [
    {
     "name": "stdout",
     "output_type": "stream",
     "text": [
      "<_io.TextIOWrapper name='demo.txt' mode='r' encoding='cp1252'>\n"
     ]
    }
   ],
   "source": [
    "filename=open(r\"demo.txt\",\"r\")\n",
    "print(filename)\n",
    "l=[]\n",
    "for i in filename:\n",
    "    l.append(i)\n",
    "    print(l)\n",
    "#=list(filename)\n",
    "#rint(f)\n",
    "#f=f.split(\" \")\n",
    "#for lines in f:\n",
    " #   print(f)"
   ]
  },
  {
   "cell_type": "code",
   "execution_count": 13,
   "id": "ac95bacd",
   "metadata": {
    "scrolled": true
   },
   "outputs": [
    {
     "ename": "UnsupportedOperation",
     "evalue": "not readable",
     "output_type": "error",
     "traceback": [
      "\u001b[1;31m---------------------------------------------------------------------------\u001b[0m",
      "\u001b[1;31mUnsupportedOperation\u001b[0m                      Traceback (most recent call last)",
      "\u001b[1;32m<ipython-input-13-2b1a7dadd40d>\u001b[0m in \u001b[0;36m<module>\u001b[1;34m\u001b[0m\n\u001b[0;32m      5\u001b[0m     \u001b[1;32mif\u001b[0m \u001b[0mlen\u001b[0m\u001b[1;33m(\u001b[0m\u001b[0mi\u001b[0m\u001b[1;33m)\u001b[0m\u001b[1;33m%\u001b[0m\u001b[1;36m2\u001b[0m\u001b[1;33m!=\u001b[0m\u001b[1;36m0\u001b[0m\u001b[1;33m:\u001b[0m\u001b[1;33m\u001b[0m\u001b[1;33m\u001b[0m\u001b[0m\n\u001b[0;32m      6\u001b[0m         \u001b[0mfilename1\u001b[0m\u001b[1;33m.\u001b[0m\u001b[0mwrite\u001b[0m\u001b[1;33m(\u001b[0m\u001b[0mi\u001b[0m\u001b[1;33m)\u001b[0m\u001b[1;33m\u001b[0m\u001b[1;33m\u001b[0m\u001b[0m\n\u001b[1;32m----> 7\u001b[1;33m \u001b[0mprint\u001b[0m\u001b[1;33m(\u001b[0m\u001b[0mfilename1\u001b[0m\u001b[1;33m.\u001b[0m\u001b[0mread\u001b[0m\u001b[1;33m(\u001b[0m\u001b[1;33m)\u001b[0m\u001b[1;33m)\u001b[0m\u001b[1;33m\u001b[0m\u001b[1;33m\u001b[0m\u001b[0m\n\u001b[0m\u001b[0;32m      8\u001b[0m \u001b[1;31m#    else:\u001b[0m\u001b[1;33m\u001b[0m\u001b[1;33m\u001b[0m\u001b[1;33m\u001b[0m\u001b[0m\n\u001b[0;32m      9\u001b[0m \u001b[1;31m#        pass\u001b[0m\u001b[1;33m\u001b[0m\u001b[1;33m\u001b[0m\u001b[1;33m\u001b[0m\u001b[0m\n",
      "\u001b[1;31mUnsupportedOperation\u001b[0m: not readable"
     ]
    }
   ],
   "source": [
    "filename=open(r\"untitled.txt\",\"r\")\n",
    "rl=filename.readline()\n",
    "filename1=open(r\"untitled21.txt\",\"w\")\n",
    "for i in rl:\n",
    "    if len(i)%2!=0:\n",
    "        filename1.write(i)\n",
    "print(filename1.read())      \n",
    "#    else:\n",
    "#        pass\n",
    "#filename3=open(r\"untitled21.txt\",\"r\")\n",
    "#print(filename.readline())\n",
    "#filename.close()\n",
    "\n",
    "    "
   ]
  },
  {
   "cell_type": "code",
   "execution_count": 19,
   "id": "3ad5bd0f",
   "metadata": {},
   "outputs": [
    {
     "name": "stdout",
     "output_type": "stream",
     "text": [
      "['industry,1\\n', 'accounting,2\\n', 'aerospace,3\\n']\n"
     ]
    }
   ],
   "source": [
    "excel=open(r\"C:\\Users\\Admin\\Downloads\\Book1.csv\",\"r\")\n",
    "filelines=excel.readlines()\n",
    "a=[]\n",
    "#for i in range(len(excel)):\n",
    "#a=list(excel.read())\n",
    "#b=int(input(\"Enter the range)\n",
    "for i in filelines:\n",
    "    a.append(i)\n",
    "print(a)"
   ]
  },
  {
   "cell_type": "code",
   "execution_count": 20,
   "id": "7ad0acd6",
   "metadata": {},
   "outputs": [
    {
     "name": "stdout",
     "output_type": "stream",
     "text": [
      "['hello my name is Aakash']\n"
     ]
    }
   ],
   "source": [
    "name=open(r\"untitled.txt\",\"r\")\n",
    "print(name.readlines())"
   ]
  },
  {
   "cell_type": "code",
   "execution_count": null,
   "id": "06edf888",
   "metadata": {},
   "outputs": [],
   "source": []
  }
 ],
 "metadata": {
  "kernelspec": {
   "display_name": "Python 3",
   "language": "python",
   "name": "python3"
  },
  "language_info": {
   "codemirror_mode": {
    "name": "ipython",
    "version": 3
   },
   "file_extension": ".py",
   "mimetype": "text/x-python",
   "name": "python",
   "nbconvert_exporter": "python",
   "pygments_lexer": "ipython3",
   "version": "3.8.8"
  }
 },
 "nbformat": 4,
 "nbformat_minor": 5
}
