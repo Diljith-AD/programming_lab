{
 "cells": [
  {
   "cell_type": "code",
   "execution_count": 2,
   "id": "d7056143-e1f2-4abd-8e2b-b2d0b13386c5",
   "metadata": {},
   "outputs": [
    {
     "name": "stdout",
     "output_type": "stream",
     "text": [
      "Area of first rectangle:15\n",
      "Area of second rectangle is:5\n",
      "Area of First rectangle is greater\n"
     ]
    }
   ],
   "source": [
    "class Rectangle:\n",
    "    def __init__(self,length,breadth):\n",
    "        self.__length=length\n",
    "        self.__breadth=breadth\n",
    "    def area(self):\n",
    "        return self.__length*self.__breadth\n",
    "    def compare(self,other):\n",
    "        if self.area()>other.area():\n",
    "            return \"Area of First rectangle is greater\"\n",
    "        else:\n",
    "            return \"Area of second rectangle is greater\"\n",
    "area1=Rectangle(5,3)\n",
    "area2=Rectangle(5,1)\n",
    "print(f\"Area of first rectangle:{area1.area()}\\nArea of second rectangle is:{area2.area()}\")\n",
    "print(area1.compare(area2))"
   ]
  },
  {
   "cell_type": "code",
   "execution_count": null,
   "id": "5602c44a-ae40-413f-b428-79904740b3e5",
   "metadata": {},
   "outputs": [],
   "source": []
  }
 ],
 "metadata": {
  "kernelspec": {
   "display_name": "Python 3 (ipykernel)",
   "language": "python",
   "name": "python3"
  },
  "language_info": {
   "codemirror_mode": {
    "name": "ipython",
    "version": 3
   },
   "file_extension": ".py",
   "mimetype": "text/x-python",
   "name": "python",
   "nbconvert_exporter": "python",
   "pygments_lexer": "ipython3",
   "version": "3.11.5"
  }
 },
 "nbformat": 4,
 "nbformat_minor": 5
}
