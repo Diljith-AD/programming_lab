{
 "cells": [
  {
   "cell_type": "code",
   "execution_count": 4,
   "id": "2c399f97",
   "metadata": {},
   "outputs": [
    {
     "name": "stdout",
     "output_type": "stream",
     "text": [
      "Enter the Value of the radius:10\n",
      "Area of the circle 314.0\n"
     ]
    }
   ],
   "source": [
    "r=int(input(\"Enter the Value of the radius:\"))\n",
    "a=3.14*r**2\n",
    "print(\"Area of the circle\",a)"
   ]
  },
  {
   "cell_type": "code",
   "execution_count": 8,
   "id": "989b4d5f",
   "metadata": {
    "scrolled": true
   },
   "outputs": [
    {
     "name": "stdout",
     "output_type": "stream",
     "text": [
      "Enter the First number=4\n",
      "Enter the Second number=2\n",
      "Enter the third number=6\n",
      "6 is the biggest number\n"
     ]
    }
   ],
   "source": [
    "a=int(input(\"Enter the First number=\"))\n",
    "b=int(input(\"Enter the Second number=\"))\n",
    "c=int(input(\"Enter the third number=\"))\n",
    "if(a>b and a>c):\n",
    "    print(a,\"is the biggest number\")\n",
    "elif(b>a and b>c):\n",
    "    print(b,\"is the biggest number\")\n",
    "else:\n",
    "    print(c,\"is the biggest number\")"
   ]
  },
  {
   "cell_type": "code",
   "execution_count": 15,
   "id": "b37fd7a7",
   "metadata": {},
   "outputs": [
    {
     "name": "stdout",
     "output_type": "stream",
     "text": [
      "Enter the integer:5\n",
      "sum= 615\n"
     ]
    }
   ],
   "source": [
    "n=int(input(\"Enter the integer:\"))\n",
    "temp=str(n)\n",
    "nn=temp+temp\n",
    "nnn=temp+temp+temp\n",
    "sum=int(n)+int(nn)+int(nnn)\n",
    "print(\"sum=\",sum)\n"
   ]
  },
  {
   "cell_type": "code",
   "execution_count": 3,
   "id": "fa736909",
   "metadata": {},
   "outputs": [
    {
     "name": "stdout",
     "output_type": "stream",
     "text": [
      "Enter the Number of elements:5\n",
      "Enter the elements:101\n",
      "Enter the elements:250\n",
      "Enter the elements:67\n",
      "Enter the elements:62\n",
      "Enter the elements:50\n",
      "['over', 'over', 67, 62, 50]\n"
     ]
    }
   ],
   "source": [
    "a=[]\n",
    "n=int(input(\"Enter the Number of elements:\"))\n",
    "for i in range(0,n):\n",
    "    b=int(input(\"Enter the elements:\"))\n",
    "    if(b>100):\n",
    "        a.append(\"over\")\n",
    "    else:\n",
    "        a.append(b)\n",
    "print(a)\n",
    "    \n"
   ]
  },
  {
   "cell_type": "code",
   "execution_count": 4,
   "id": "bec0ccf8",
   "metadata": {},
   "outputs": [
    {
     "name": "stdout",
     "output_type": "stream",
     "text": [
      "Lenght of the list is different\n",
      "List have different sum\n",
      "Two list has the same element: 1\n",
      "Two list has the same element: 3\n"
     ]
    }
   ],
   "source": [
    "a=[1,2,3,4]\n",
    "b=[1,3,6,8,7,0]\n",
    "l1=len(a)\n",
    "l2=len(b)\n",
    "if(l1==l2):\n",
    "    print(\"List are of same length\")\n",
    "else:\n",
    "    print(\"Lenght of the list is different\")\n",
    "s1=sum(a)\n",
    "s2=sum(b)\n",
    "if(s1==s2):\n",
    "    print(\"List have same sum\")\n",
    "else:\n",
    "    print(\"List have different sum\")\n",
    "count=0\n",
    "for i in a:\n",
    "    for j in b:\n",
    "        if(i==j):\n",
    "            count=count+1\n",
    "            print(\"Two list has the same element:\",i)\n",
    "if(count==0):\n",
    "    print(\"The list doesn't have same element\")"
   ]
  },
  {
   "cell_type": "code",
   "execution_count": 5,
   "id": "0b3b5292",
   "metadata": {},
   "outputs": [
    {
     "name": "stdout",
     "output_type": "stream",
     "text": [
      "Enter a=10\n",
      "Enter b=5\n",
      "gcd= 5\n"
     ]
    }
   ],
   "source": [
    "def gcd1(a,b):\n",
    "    if (b==0):\n",
    "        return a\n",
    "    else:\n",
    "        return gcd1(b,a%b)\n",
    "a=int(input(\"Enter a=\"))\n",
    "b=int(input(\"Enter b=\"))\n",
    "g=gcd1(a,b)\n",
    "print(\"gcd=\",g)"
   ]
  },
  {
   "cell_type": "code",
   "execution_count": 3,
   "id": "ed4cf2f8",
   "metadata": {
    "scrolled": true
   },
   "outputs": [
    {
     "name": "stdout",
     "output_type": "stream",
     "text": [
      "Enter the range:5\n",
      "Enter the elements:2\n",
      "Enter the elements:6\n",
      "Enter the elements:4\n",
      "Enter the elements:7\n",
      "Enter the elements:9\n",
      "List before removing: [2, 6, 4, 7, 9]\n",
      "After removing even numbers: [7, 9]\n"
     ]
    }
   ],
   "source": [
    "list=[]\n",
    "n=int(input(\"Enter the range:\"))\n",
    "for i in range(n):\n",
    "    a=int(input(\"Enter the elements:\"))\n",
    "    list.append(a)\n",
    "print(\"List before removing:\",list)\n",
    "list1=[]\n",
    "for i in list:\n",
    "    if (i%2!=0):\n",
    "        list1.append(i)\n",
    "print(\"After removing even numbers:\",list1)"
   ]
  },
  {
   "cell_type": "code",
   "execution_count": 10,
   "id": "58d63ffe",
   "metadata": {
    "scrolled": true
   },
   "outputs": [
    {
     "name": "stdout",
     "output_type": "stream",
     "text": [
      "Enter the current year:2023\n",
      "Enter the final year:2050\n",
      "The leap years are:\n",
      "2024\n",
      "2028\n",
      "2032\n",
      "2036\n",
      "2040\n",
      "2044\n",
      "2048\n"
     ]
    }
   ],
   "source": [
    "current=int(input(\"Enter the current year:\"))\n",
    "final=int(input(\"Enter the final year:\"))\n",
    "print(\"The leap years are:\")\n",
    "for i in range(current,final):\n",
    "    if(i%400==0 or (i%100!=0 and i%4==0)):\n",
    "       print(i)"
   ]
  },
  {
   "cell_type": "code",
   "execution_count": 32,
   "id": "18d13026",
   "metadata": {
    "scrolled": true
   },
   "outputs": [
    {
     "name": "stdout",
     "output_type": "stream",
     "text": [
      "Enter the range:5\n",
      "Enter the elements:-1\n",
      "Enter the elements:2\n",
      "Enter the elements:3\n",
      "Enter the elements:-4\n",
      "Enter the elements:5\n",
      "The list is [-1, 2, 3, -4, 5]\n",
      "positive list of integers: [2, 3, 5]\n"
     ]
    }
   ],
   "source": [
    "lst=[]\n",
    "r=int(input(\"Enter the range:\"))\n",
    "for i in range(r):\n",
    "    n=int(input(\"Enter the elements:\"))\n",
    "    lst.append(n)\n",
    "print(\"The list is\",lst)\n",
    "lst1=[]\n",
    "for i in lst:\n",
    "    if(i>0):\n",
    "        lst1.append(i)\n",
    "print(\"positive list of integers:\",lst1)"
   ]
  },
  {
   "cell_type": "code",
   "execution_count": 31,
   "id": "f2d59e48",
   "metadata": {},
   "outputs": [
    {
     "name": "stdout",
     "output_type": "stream",
     "text": [
      "Enter the range:5\n",
      "Enter the elements:3\n",
      "Enter the elements:6\n",
      "Enter the elements:9\n",
      "Enter the elements:4\n",
      "Enter the elements:2\n",
      "The list is: [3, 6, 9, 4, 2]\n",
      "The list of squares= [9, 36, 81, 16, 4]\n"
     ]
    }
   ],
   "source": [
    "lst=[]\n",
    "r=int(input(\"Enter the range:\"))\n",
    "for i in range(r):\n",
    "    n=int(input(\"Enter the elements:\"))\n",
    "    lst.append(n)\n",
    "print(\"The list is:\",lst)\n",
    "lst=[i*i for i in lst]\n",
    "print(\"The list of squares=\",lst)"
   ]
  },
  {
   "cell_type": "code",
   "execution_count": 5,
   "id": "9ac43e24",
   "metadata": {},
   "outputs": [
    {
     "name": "stdout",
     "output_type": "stream",
     "text": [
      "Enter the word:Education\n",
      "The vowels of the word are: ['E', 'u', 'a', 'i', 'o']\n"
     ]
    }
   ],
   "source": [
    "vowels=['A','E','I','O','U','a','e','i','o','u']\n",
    "vow=[]\n",
    "word=input(\"Enter the word:\")\n",
    "vow=[i for i in word if i in vowels]\n",
    "print(\"The vowels of the word are:\",vow)"
   ]
  },
  {
   "cell_type": "code",
   "execution_count": 10,
   "id": "a2de6b31",
   "metadata": {},
   "outputs": [
    {
     "name": "stdout",
     "output_type": "stream",
     "text": [
      "Enter the word:Dog\n",
      "The ordinal values are [68, 111, 103]\n"
     ]
    }
   ],
   "source": [
    "word=input(\"Enter the word:\")\n",
    "ord_value=[ord(i) for i in word]\n",
    "print(\"The ordinal values are\",ord_value)"
   ]
  },
  {
   "cell_type": "code",
   "execution_count": 22,
   "id": "e353cc8a",
   "metadata": {
    "scrolled": true
   },
   "outputs": [
    {
     "name": "stdout",
     "output_type": "stream",
     "text": [
      "Enter the range:3\n",
      "Enter the name:Yadu\n",
      "Enter the name:Diljith\n",
      "Enter the name:Sultan\n",
      "The list of names are: ['Yadu', 'Diljith', 'Sultan']\n",
      "The occurrences of a in the list: 2\n"
     ]
    }
   ],
   "source": [
    "name=[]\n",
    "con=0\n",
    "r=int(input(\"Enter the range:\"))\n",
    "for i in range(r):\n",
    "    n=input(\"Enter the name:\")\n",
    "    name.append(n)\n",
    "print(\"The list of names are:\",name)\n",
    "for i in name:\n",
    "    con+=i.count('a')\n",
    "print(\"The occurrences of 'a' in the list:\",con)\n"
   ]
  },
  {
   "cell_type": "code",
   "execution_count": 3,
   "id": "fed76034",
   "metadata": {
    "scrolled": true
   },
   "outputs": [
    {
     "name": "stdout",
     "output_type": "stream",
     "text": [
      "Enter the string:mohammed\n",
      "The new string= moha$$ed\n"
     ]
    }
   ],
   "source": [
    "string=input(\"Enter the string:\")\n",
    "nstring=string[0]+string[1:].replace(string[0],\"$\")\n",
    "print(\"The new string=\",nstring)"
   ]
  },
  {
   "cell_type": "code",
   "execution_count": 4,
   "id": "10edd3ca",
   "metadata": {},
   "outputs": [
    {
     "name": "stdout",
     "output_type": "stream",
     "text": [
      "Enter the Word:Cat\n",
      "The new word= taC\n"
     ]
    }
   ],
   "source": [
    "wrd=input(\"Enter the Word:\")\n",
    "nwrd=wrd[-1]+wrd[1:-1]+wrd[0]\n",
    "print(\"The new word=\",nwrd)"
   ]
  },
  {
   "cell_type": "code",
   "execution_count": 5,
   "id": "bfab994a",
   "metadata": {},
   "outputs": [
    {
     "name": "stdout",
     "output_type": "stream",
     "text": [
      "Enter filename:file.png\n",
      "The extension of the filename is: png\n"
     ]
    }
   ],
   "source": [
    "filename=input(\"Enter filename:\")\n",
    "extension=filename.split(\".\")\n",
    "print(\"The extension of the filename is:\",extension[1])"
   ]
  },
  {
   "cell_type": "code",
   "execution_count": 20,
   "id": "6997dc35",
   "metadata": {},
   "outputs": [
    {
     "name": "stdout",
     "output_type": "stream",
     "text": [
      "Enter the line of text:hi hello hi\n",
      "The list of words is ['hi', 'hello', 'hi']\n",
      "['hi', 'hello']\n",
      "hi 2\n",
      "hello 1\n"
     ]
    }
   ],
   "source": [
    "text=input(\"Enter the line of text:\")\n",
    "x=text.split(\" \")\n",
    "lst=[]\n",
    "print(\"The list of words is\",x)\n",
    "for i in x:\n",
    "    if i not in lst:\n",
    "        lst.append(i)\n",
    "print(lst)\n",
    "for i in lst:\n",
    "    count=0\n",
    "    for j in x:\n",
    "        if i==j:\n",
    "            count=count+1\n",
    "    print(i,count)"
   ]
  },
  {
   "cell_type": "code",
   "execution_count": 33,
   "id": "d3969bad",
   "metadata": {
    "scrolled": true
   },
   "outputs": [
    {
     "name": "stdout",
     "output_type": "stream",
     "text": [
      "Enter the colours:Gray,White,Black\n",
      "The first color: Gray\n",
      "The last color: Black\n"
     ]
    }
   ],
   "source": [
    "a=input(\"Enter the colours:\")\n",
    "x=a.split(\",\")\n",
    "print(\"The first color:\",x[0])\n",
    "print(\"The last color:\",x[-1])"
   ]
  },
  {
   "cell_type": "code",
   "execution_count": 5,
   "id": "86e403b0",
   "metadata": {},
   "outputs": [
    {
     "name": "stdout",
     "output_type": "stream",
     "text": [
      "Enter the colors in Color-list1:yellow black green\n",
      "['yellow', 'black', 'green']\n",
      "Enter the colors in Color-list2:yellow black white\n",
      "['yellow', 'black', 'white']\n",
      "The colors in list 1 and not in list 2: green\n"
     ]
    }
   ],
   "source": [
    "c1=input(\"Enter the colors in Color-list1:\")\n",
    "c1=c1.split(\" \")\n",
    "print(c1)\n",
    "c2=input(\"Enter the colors in Color-list2:\")\n",
    "c2=c2.split(\" \")\n",
    "print(c2)\n",
    "for i in c1:\n",
    "    if i not in c2:\n",
    "        print(\"The colors in list 1 and not in list 2:\",i)"
   ]
  },
  {
   "cell_type": "code",
   "execution_count": 10,
   "id": "4bc1ac03",
   "metadata": {},
   "outputs": [
    {
     "name": "stdout",
     "output_type": "stream",
     "text": [
      "Enter string 1:Hello\n",
      "Enter string 2:Bye\n",
      "Bello Hye\n"
     ]
    }
   ],
   "source": [
    "string1=input(\"Enter string 1:\")\n",
    "string2=input(\"Enter string 2:\")\n",
    "nstring=string2[0]+string1[1:]+\" \"+string1[0]+string2[1:]\n",
    "print(nstring)"
   ]
  },
  {
   "cell_type": "code",
   "execution_count": 23,
   "id": "4f0ba99f",
   "metadata": {
    "scrolled": true
   },
   "outputs": [
    {
     "name": "stdout",
     "output_type": "stream",
     "text": [
      "Dictionary is: {'Apple': 1, 'Banana': 2, 'Mango': 3, 'Orange': 4}\n",
      "Ascending order: [('Apple', 1), ('Banana', 2), ('Mango', 3), ('Orange', 4)]\n",
      "Descending order: [('Orange', 4), ('Mango', 3), ('Banana', 2), ('Apple', 1)]\n"
     ]
    }
   ],
   "source": [
    "d={\"Apple\":1,\"Banana\":2,\"Mango\":3,\"Orange\":4}\n",
    "print(\"Dictionary is:\",d)\n",
    "print(\"Ascending order:\",sorted(d.items()))\n",
    "print(\"Descending order:\",sorted(d.items(),reverse=True))"
   ]
  },
  {
   "cell_type": "code",
   "execution_count": 20,
   "id": "a556b771",
   "metadata": {},
   "outputs": [
    {
     "name": "stdout",
     "output_type": "stream",
     "text": [
      "Enter the key in d1:1\n",
      "Enter the value in d1:hi\n",
      "Enter the key in d1:2\n",
      "Enter the value in d1:hello\n",
      "The first dictionary: {'1': 'hi', '2': 'hello'}\n",
      "Enter the key in d2:3\n",
      "Enter the value in d2:bye\n",
      "Enter the key in d2:4\n",
      "Enter the value in d2:farewell\n",
      "The second dictionary {'3': 'bye', '4': 'farewell'}\n",
      "Merged dictionary: {'1': 'hi', '2': 'hello', '3': 'bye', '4': 'farewell'}\n"
     ]
    }
   ],
   "source": [
    "d1={}\n",
    "d2={}\n",
    "for i in range(0,2):\n",
    "    key1=input(\"Enter the key in d1:\")\n",
    "    value1=input(\"Enter the value in d1:\")\n",
    "    d1[key1]=value1\n",
    "print(\"The first dictionary:\",d1)\n",
    "for i in range(0,2):\n",
    "    key2=input(\"Enter the key in d2:\")\n",
    "    value2=input(\"Enter the value in d2:\")\n",
    "    d2[key2]=value2\n",
    "print(\"The second dictionary\",d2)\n",
    "d1.update(d2)\n",
    "print(\"Merged dictionary:\",d1)"
   ]
  },
  {
   "cell_type": "code",
   "execution_count": 3,
   "id": "fcbf8761",
   "metadata": {},
   "outputs": [
    {
     "name": "stdout",
     "output_type": "stream",
     "text": [
      "Enter the number5\n",
      "The factorial of 5 is:120\n"
     ]
    }
   ],
   "source": [
    "a=int(input(\"Enter the number\"))\n",
    "fact=1\n",
    "for i in range(1,a+1):\n",
    "    fact=fact*i\n",
    "print(f\"The factorial of {a} is:{fact}\")"
   ]
  },
  {
   "cell_type": "code",
   "execution_count": 18,
   "id": "b53d6543-3b7a-4660-8090-15e82bc9a44e",
   "metadata": {},
   "outputs": [
    {
     "name": "stdin",
     "output_type": "stream",
     "text": [
      "Enter a number: 5\n"
     ]
    },
    {
     "name": "stdout",
     "output_type": "stream",
     "text": [
      "The series is\n",
      "0\n",
      "1\n",
      "1\n",
      "2\n",
      "3\n"
     ]
    }
   ],
   "source": [
    "def fibonacci(n):\n",
    "    a=0\n",
    "    b=1\n",
    "    fib=0\n",
    "    if n==0:\n",
    "        return a\n",
    "    elif n==1:\n",
    "        return b\n",
    "    else:\n",
    "        print(a)\n",
    "        print(b)\n",
    "        for i in range(2,n):\n",
    "            fib=a+b\n",
    "            a=b\n",
    "            b=fib\n",
    "            print(fib)\n",
    "n=int(input(\"Enter a number:\"))\n",
    "print(\"The series is\")\n",
    "fibonacci(n)\n",
    "    "
   ]
  },
  {
   "cell_type": "code",
   "execution_count": 19,
   "id": "952cd81e-ba97-4037-8e35-e8edee59acdf",
   "metadata": {},
   "outputs": [
    {
     "name": "stdin",
     "output_type": "stream",
     "text": [
      "Enter the range 5\n",
      "Enter the numbers in a list: 1\n",
      "Enter the numbers in a list: 2\n",
      "Enter the numbers in a list: 3\n",
      "Enter the numbers in a list: 4\n",
      "Enter the numbers in a list: 5\n"
     ]
    },
    {
     "name": "stdout",
     "output_type": "stream",
     "text": [
      "[1, 2, 3, 4, 5]\n",
      "The sum of all items in a list is: 15\n"
     ]
    }
   ],
   "source": [
    "lst=[]\n",
    "r=int(input(\"Enter the range\"))\n",
    "for i in range(r):\n",
    "    a=int(input(\"Enter the numbers in a list:\"))\n",
    "    lst.append(a)\n",
    "print(lst)\n",
    "print(\"The sum of all items in a list is:\",sum(lst))"
   ]
  },
  {
   "cell_type": "code",
   "execution_count": 1,
   "id": "5db6b313",
   "metadata": {},
   "outputs": [
    {
     "name": "stdin",
     "output_type": "stream",
     "text": [
      "Enter the initial number:  32\n",
      "Enter the final number:  99\n"
     ]
    },
    {
     "name": "stdout",
     "output_type": "stream",
     "text": [
      "[4624, 6084, 6400, 8464]\n"
     ]
    }
   ],
   "source": [
    "square = []\n",
    "initial = int(input(\"Enter the initial number: \"))\n",
    "final = int(input(\"Enter the final number: \"))\n",
    "for i in range(initial, final + 1):\n",
    "    sqr = i * i\n",
    "    d = sqr\n",
    "    while d > 0:\n",
    "        digit = d % 10\n",
    "        if digit % 2 == 0:\n",
    "            d //= 10\n",
    "        else:\n",
    "            break\n",
    "    if d == 0:\n",
    "        square.append(sqr)\n",
    "print(square)\n",
    "\n"
   ]
  },
  {
   "cell_type": "code",
   "execution_count": 8,
   "id": "4a0ce2f4-6c1c-40c3-8a87-4e9eb0eada24",
   "metadata": {},
   "outputs": [
    {
     "name": "stdin",
     "output_type": "stream",
     "text": [
      "Enter a number:  4\n"
     ]
    },
    {
     "name": "stdout",
     "output_type": "stream",
     "text": [
      "1 \n",
      "\n",
      "2 4 \n",
      "\n",
      "3 6 9 \n",
      "\n",
      "4 8 12 16 \n",
      "\n"
     ]
    }
   ],
   "source": [
    "row = int(input(\"Enter a number: \"))\n",
    "for i in range(1, row + 1):\n",
    "    for j in range(1, i + 1):\n",
    "        print(i * j, end=\" \")\n",
    "    print(\"\\n\")"
   ]
  },
  {
   "cell_type": "code",
   "execution_count": 29,
   "id": "b148a20d-9555-4765-83f9-86e78f087994",
   "metadata": {
    "scrolled": true
   },
   "outputs": [
    {
     "name": "stdout",
     "output_type": "stream",
     "text": [
      "Enter the String:hello\n",
      "The character o has repeated 1 times\n",
      "The character l has repeated 2 times\n",
      "The character e has repeated 1 times\n",
      "The character h has repeated 1 times\n",
      "The total length of the string is 5\n"
     ]
    }
   ],
   "source": [
    "a=input(\"Enter the String:\")\n",
    "c=set(a)\n",
    "for i in c:\n",
    "    count=a.count(i)\n",
    "    print(f\"The character {i} has repeated {count} times\")\n",
    "print(f\"The total length of the string is {len(a)}\")"
   ]
  },
  {
   "cell_type": "code",
   "execution_count": 22,
   "id": "67c339ad-1085-4419-9129-e3ee49824e7e",
   "metadata": {},
   "outputs": [
    {
     "name": "stdin",
     "output_type": "stream",
     "text": [
      "Enter a string: Grow\n"
     ]
    },
    {
     "name": "stdout",
     "output_type": "stream",
     "text": [
      "Growing\n"
     ]
    }
   ],
   "source": [
    "a=input(\"Enter a string:\")\n",
    "if a.endswith(\"ing\"):\n",
    "    b=a+\"ly\"\n",
    "else:\n",
    "    b=a+\"ing\"\n",
    "print(b)\n"
   ]
  },
  {
   "cell_type": "code",
   "execution_count": 30,
   "id": "99653101-d0e8-430d-a0c2-20aa887e11d9",
   "metadata": {},
   "outputs": [
    {
     "name": "stdout",
     "output_type": "stream",
     "text": [
      "Enter the range:3\n",
      "Enter the Words:hello\n",
      "Enter the Words:hightest\n",
      "Enter the Words:help\n",
      "['hello', 'hightest', 'help']\n",
      "Length of the longest word 8\n"
     ]
    }
   ],
   "source": [
    "lst=[]\n",
    "a=int(input(\"Enter the range:\"))\n",
    "for i in range(a):\n",
    "    b=input(\"Enter the Words:\")\n",
    "    lst.append(b)\n",
    "print(lst)\n",
    "lw=len(lst[0])\n",
    "for i in lst:\n",
    "    curr=len(i)\n",
    "    if curr>lw:\n",
    "        lw=curr\n",
    "print(f\"Length of the longest word {lw}\")"
   ]
  },
  {
   "cell_type": "code",
   "execution_count": 28,
   "id": "574acabe-6321-48e6-8dc4-6b899b4b5a06",
   "metadata": {},
   "outputs": [
    {
     "name": "stdin",
     "output_type": "stream",
     "text": [
      "Enter the number: 4\n"
     ]
    },
    {
     "name": "stdout",
     "output_type": "stream",
     "text": [
      "* \n",
      "* * \n",
      "* * * \n",
      "* * * * \n",
      "* * * \n",
      "* * \n",
      "* \n",
      "\n"
     ]
    }
   ],
   "source": [
    "row=int(input(\"Enter the number:\"))\n",
    "for i in range(1,row+1):\n",
    "    for j in range(1,i+1):\n",
    "        print(\"*\",end=\" \")\n",
    "    print()\n",
    "for i in range(row,0,-1):\n",
    "    for j in range(0,i-1):\n",
    "        print(\"*\",end=\" \")\n",
    "    print()"
   ]
  },
  {
   "cell_type": "code",
   "execution_count": 31,
   "id": "f6176110-15ef-4cda-9108-b15a9e1773da",
   "metadata": {},
   "outputs": [
    {
     "name": "stdout",
     "output_type": "stream",
     "text": [
      "Enter the number:16\n",
      "Factors of 16 are :\n",
      "1 2 4 8 16 "
     ]
    }
   ],
   "source": [
    "num=int(input(\"Enter the number:\"))\n",
    "print(f\"Factors of {num} are :\")\n",
    "for i in range(1,num+1):\n",
    "    if num%i==0:\n",
    "        print(i,end=\" \")"
   ]
  },
  {
   "cell_type": "code",
   "execution_count": 24,
   "id": "d08f62c4-1fcf-4c0c-bb85-fa3b61603f0c",
   "metadata": {},
   "outputs": [
    {
     "name": "stdout",
     "output_type": "stream",
     "text": [
      "Area of a Square= 4\n",
      "Area of a Rectangle= 6\n",
      "Area of a Triangle= 4.0\n"
     ]
    }
   ],
   "source": [
    "x=lambda a:a*a  \n",
    "print(\"Area of a Square=\",(x(2)))\n",
    "\n",
    "y=lambda b,l: (b*l)\n",
    "print(\"Area of a Rectangle=\",y(2,3))\n",
    "\n",
    "z=lambda c,h: (0.5)*c*h\n",
    "print(\"Area of a Triangle=\",z(2,4))\n",
    "\n"
   ]
  },
  {
   "cell_type": "code",
   "execution_count": 32,
   "id": "7279e92b",
   "metadata": {},
   "outputs": [
    {
     "name": "stdout",
     "output_type": "stream",
     "text": [
      "Enter the Stringhello\n"
     ]
    },
    {
     "ename": "ValueError",
     "evalue": "dictionary update sequence element #0 has length 1; 2 is required",
     "output_type": "error",
     "traceback": [
      "\u001b[1;31m---------------------------------------------------------------------------\u001b[0m",
      "\u001b[1;31mValueError\u001b[0m                                Traceback (most recent call last)",
      "\u001b[1;32m<ipython-input-32-eae7fedd6e42>\u001b[0m in \u001b[0;36m<module>\u001b[1;34m\u001b[0m\n\u001b[0;32m      1\u001b[0m \u001b[0ma\u001b[0m\u001b[1;33m=\u001b[0m\u001b[0minput\u001b[0m\u001b[1;33m(\u001b[0m\u001b[1;34m\"Enter the String\"\u001b[0m\u001b[1;33m)\u001b[0m\u001b[1;33m\u001b[0m\u001b[1;33m\u001b[0m\u001b[0m\n\u001b[1;32m----> 2\u001b[1;33m \u001b[0mb\u001b[0m\u001b[1;33m=\u001b[0m\u001b[0mdict\u001b[0m\u001b[1;33m(\u001b[0m\u001b[0ma\u001b[0m\u001b[1;33m)\u001b[0m\u001b[1;33m\u001b[0m\u001b[1;33m\u001b[0m\u001b[0m\n\u001b[0m\u001b[0;32m      3\u001b[0m \u001b[0mprint\u001b[0m\u001b[1;33m(\u001b[0m\u001b[0mb\u001b[0m\u001b[1;33m)\u001b[0m\u001b[1;33m\u001b[0m\u001b[1;33m\u001b[0m\u001b[0m\n",
      "\u001b[1;31mValueError\u001b[0m: dictionary update sequence element #0 has length 1; 2 is required"
     ]
    }
   ],
   "source": [
    "a=input(\"Enter the String\")\n",
    "b=dict(a)\n",
    "print(b)\n"
   ]
  },
  {
   "cell_type": "code",
   "execution_count": null,
   "id": "1738d19e",
   "metadata": {},
   "outputs": [],
   "source": []
  }
 ],
 "metadata": {
  "kernelspec": {
   "display_name": "Python 3",
   "language": "python",
   "name": "python3"
  },
  "language_info": {
   "codemirror_mode": {
    "name": "ipython",
    "version": 3
   },
   "file_extension": ".py",
   "mimetype": "text/x-python",
   "name": "python",
   "nbconvert_exporter": "python",
   "pygments_lexer": "ipython3",
   "version": "3.8.8"
  }
 },
 "nbformat": 4,
 "nbformat_minor": 5
}
