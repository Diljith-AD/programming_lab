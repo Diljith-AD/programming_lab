{
 "cells": [
  {
   "cell_type": "code",
   "execution_count": 4,
   "id": "2c399f97",
   "metadata": {},
   "outputs": [
    {
     "name": "stdout",
     "output_type": "stream",
     "text": [
      "Enter the Value of the radius:10\n",
      "Area of the circle 314.0\n"
     ]
    }
   ],
   "source": [
    "r=int(input(\"Enter the Value of the radius:\"))\n",
    "a=3.14*r**2\n",
    "print(\"Area of the circle\",a)"
   ]
  },
  {
   "cell_type": "code",
   "execution_count": 8,
   "id": "989b4d5f",
   "metadata": {
    "scrolled": true
   },
   "outputs": [
    {
     "name": "stdout",
     "output_type": "stream",
     "text": [
      "Enter the First number=4\n",
      "Enter the Second number=2\n",
      "Enter the third number=6\n",
      "6 is the biggest number\n"
     ]
    }
   ],
   "source": [
    "a=int(input(\"Enter the First number=\"))\n",
    "b=int(input(\"Enter the Second number=\"))\n",
    "c=int(input(\"Enter the third number=\"))\n",
    "if(a>b and a>c):\n",
    "    print(a,\"is the biggest number\")\n",
    "elif(b>a and b>c):\n",
    "    print(b,\"is the biggest number\")\n",
    "else:\n",
    "    print(c,\"is the biggest number\")"
   ]
  },
  {
   "cell_type": "code",
   "execution_count": 15,
   "id": "b37fd7a7",
   "metadata": {
    "scrolled": false
   },
   "outputs": [
    {
     "name": "stdout",
     "output_type": "stream",
     "text": [
      "Enter the integer:5\n",
      "sum= 615\n"
     ]
    }
   ],
   "source": [
    "n=int(input(\"Enter the integer:\"))\n",
    "temp=str(n)\n",
    "nn=temp+temp\n",
    "nnn=temp+temp+temp\n",
    "sum=int(n)+int(nn)+int(nnn)\n",
    "print(\"sum=\",sum)\n"
   ]
  },
  {
   "cell_type": "code",
   "execution_count": 3,
   "id": "fa736909",
   "metadata": {},
   "outputs": [
    {
     "name": "stdout",
     "output_type": "stream",
     "text": [
      "Enter the Number of elements:5\n",
      "Enter the elements:101\n",
      "Enter the elements:250\n",
      "Enter the elements:67\n",
      "Enter the elements:62\n",
      "Enter the elements:50\n",
      "['over', 'over', 67, 62, 50]\n"
     ]
    }
   ],
   "source": [
    "a=[]\n",
    "n=int(input(\"Enter the Number of elements:\"))\n",
    "for i in range(0,n):\n",
    "    b=int(input(\"Enter the elements:\"))\n",
    "    if(b>100):\n",
    "        a.append(\"over\")\n",
    "    else:\n",
    "        a.append(b)\n",
    "print(a)\n",
    "    \n"
   ]
  },
  {
   "cell_type": "code",
   "execution_count": 4,
   "id": "bec0ccf8",
   "metadata": {},
   "outputs": [
    {
     "name": "stdout",
     "output_type": "stream",
     "text": [
      "Lenght of the list is different\n",
      "List have different sum\n",
      "Two list has the same element: 1\n",
      "Two list has the same element: 3\n"
     ]
    }
   ],
   "source": [
    "a=[1,2,3,4]\n",
    "b=[1,3,6,8,7,0]\n",
    "l1=len(a)\n",
    "l2=len(b)\n",
    "if(l1==l2):\n",
    "    print(\"List are of same length\")\n",
    "else:\n",
    "    print(\"Lenght of the list is different\")\n",
    "s1=sum(a)\n",
    "s2=sum(b)\n",
    "if(s1==s2):\n",
    "    print(\"List have same sum\")\n",
    "else:\n",
    "    print(\"List have different sum\")\n",
    "count=0\n",
    "for i in a:\n",
    "    for j in b:\n",
    "        if(i==j):\n",
    "            count=count+1\n",
    "            print(\"Two list has the same element:\",i)\n",
    "if(count==0):\n",
    "    print(\"The list doesn't have same element\")"
   ]
  },
  {
   "cell_type": "code",
   "execution_count": 5,
   "id": "0b3b5292",
   "metadata": {},
   "outputs": [
    {
     "name": "stdout",
     "output_type": "stream",
     "text": [
      "Enter a=10\n",
      "Enter b=5\n",
      "gcd= 5\n"
     ]
    }
   ],
   "source": [
    "def gcd1(a,b):\n",
    "    if (b==0):\n",
    "        return a\n",
    "    else:\n",
    "        return gcd1(b,a%b)\n",
    "a=int(input(\"Enter a=\"))\n",
    "b=int(input(\"Enter b=\"))\n",
    "g=gcd1(a,b)\n",
    "print(\"gcd=\",g)"
   ]
  },
  {
   "cell_type": "code",
   "execution_count": 3,
   "id": "ed4cf2f8",
   "metadata": {
    "scrolled": true
   },
   "outputs": [
    {
     "name": "stdout",
     "output_type": "stream",
     "text": [
      "Enter the range:5\n",
      "Enter the elements:2\n",
      "Enter the elements:6\n",
      "Enter the elements:4\n",
      "Enter the elements:7\n",
      "Enter the elements:9\n",
      "List before removing: [2, 6, 4, 7, 9]\n",
      "After removing even numbers: [7, 9]\n"
     ]
    }
   ],
   "source": [
    "list=[]\n",
    "n=int(input(\"Enter the range:\"))\n",
    "for i in range(n):\n",
    "    a=int(input(\"Enter the elements:\"))\n",
    "    list.append(a)\n",
    "print(\"List before removing:\",list)\n",
    "list1=[]\n",
    "for i in list:\n",
    "    if (i%2!=0):\n",
    "        list1.append(i)\n",
    "print(\"After removing even numbers:\",list1)"
   ]
  },
  {
   "cell_type": "code",
   "execution_count": 10,
   "id": "58d63ffe",
   "metadata": {
    "scrolled": true
   },
   "outputs": [
    {
     "name": "stdout",
     "output_type": "stream",
     "text": [
      "Enter the current year:2023\n",
      "Enter the final year:2050\n",
      "The leap years are:\n",
      "2024\n",
      "2028\n",
      "2032\n",
      "2036\n",
      "2040\n",
      "2044\n",
      "2048\n"
     ]
    }
   ],
   "source": [
    "current=int(input(\"Enter the current year:\"))\n",
    "final=int(input(\"Enter the final year:\"))\n",
    "print(\"The leap years are:\")\n",
    "for i in range(current,final):\n",
    "    if(i%400==0 or (i%100!=0 and i%4==0)):\n",
    "       print(i)"
   ]
  },
  {
   "cell_type": "code",
   "execution_count": 32,
   "id": "18d13026",
   "metadata": {
    "scrolled": true
   },
   "outputs": [
    {
     "name": "stdout",
     "output_type": "stream",
     "text": [
      "Enter the range:5\n",
      "Enter the elements:-1\n",
      "Enter the elements:2\n",
      "Enter the elements:3\n",
      "Enter the elements:-4\n",
      "Enter the elements:5\n",
      "The list is [-1, 2, 3, -4, 5]\n",
      "positive list of integers: [2, 3, 5]\n"
     ]
    }
   ],
   "source": [
    "lst=[]\n",
    "r=int(input(\"Enter the range:\"))\n",
    "for i in range(r):\n",
    "    n=int(input(\"Enter the elements:\"))\n",
    "    lst.append(n)\n",
    "print(\"The list is\",lst)\n",
    "lst1=[]\n",
    "for i in lst:\n",
    "    if(i>0):\n",
    "        lst1.append(i)\n",
    "print(\"positive list of integers:\",lst1)"
   ]
  },
  {
   "cell_type": "code",
   "execution_count": 31,
   "id": "f2d59e48",
   "metadata": {},
   "outputs": [
    {
     "name": "stdout",
     "output_type": "stream",
     "text": [
      "Enter the range:5\n",
      "Enter the elements:3\n",
      "Enter the elements:6\n",
      "Enter the elements:9\n",
      "Enter the elements:4\n",
      "Enter the elements:2\n",
      "The list is: [3, 6, 9, 4, 2]\n",
      "The list of squares= [9, 36, 81, 16, 4]\n"
     ]
    }
   ],
   "source": [
    "lst=[]\n",
    "r=int(input(\"Enter the range:\"))\n",
    "for i in range(r):\n",
    "    n=int(input(\"Enter the elements:\"))\n",
    "    lst.append(n)\n",
    "print(\"The list is:\",lst)\n",
    "lst=[i*i for i in lst]\n",
    "print(\"The list of squares=\",lst)"
   ]
  },
  {
   "cell_type": "code",
   "execution_count": 5,
   "id": "9ac43e24",
   "metadata": {
    "scrolled": false
   },
   "outputs": [
    {
     "name": "stdout",
     "output_type": "stream",
     "text": [
      "Enter the word:Education\n",
      "The vowels of the word are: ['E', 'u', 'a', 'i', 'o']\n"
     ]
    }
   ],
   "source": [
    "vowels=['A','E','I','O','U','a','e','i','o','u']\n",
    "vow=[]\n",
    "word=input(\"Enter the word:\")\n",
    "vow=[i for i in word if i in vowels]\n",
    "print(\"The vowels of the word are:\",vow)"
   ]
  },
  {
   "cell_type": "code",
   "execution_count": 10,
   "id": "e5cf1e26",
   "metadata": {},
   "outputs": [
    {
     "name": "stdout",
     "output_type": "stream",
     "text": [
      "Enter the word:Dog\n",
      "The ordinal values are [68, 111, 103]\n"
     ]
    }
   ],
   "source": [
    "word=input(\"Enter the word:\")\n",
    "ord_value=[ord(i) for i in word]\n",
    "print(\"The ordinal values are\",ord_value)"
   ]
  },
  {
   "cell_type": "code",
   "execution_count": 22,
   "id": "9614987c",
   "metadata": {
    "scrolled": true
   },
   "outputs": [
    {
     "name": "stdout",
     "output_type": "stream",
     "text": [
      "Enter the range:3\n",
      "Enter the name:Yadu\n",
      "Enter the name:Diljith\n",
      "Enter the name:Sultan\n",
      "The list of names are: ['Yadu', 'Diljith', 'Sultan']\n",
      "The occurrences of a in the list: 2\n"
     ]
    }
   ],
   "source": [
    "name=[]\n",
    "con=0\n",
    "r=int(input(\"Enter the range:\"))\n",
    "for i in range(r):\n",
    "    n=input(\"Enter the name:\")\n",
    "    name.append(n)\n",
    "print(\"The list of names are:\",name)\n",
    "for i in name:\n",
    "    con+=i.count('a')\n",
    "print(\"The occurrences of a in the list:\",con)\n"
   ]
  },
  {
   "cell_type": "code",
   "execution_count": null,
   "id": "170c9a34",
   "metadata": {},
   "outputs": [],
   "source": []
  }
 ],
 "metadata": {
  "kernelspec": {
   "display_name": "Python 3",
   "language": "python",
   "name": "python3"
  },
  "language_info": {
   "codemirror_mode": {
    "name": "ipython",
    "version": 3
   },
   "file_extension": ".py",
   "mimetype": "text/x-python",
   "name": "python",
   "nbconvert_exporter": "python",
   "pygments_lexer": "ipython3",
   "version": "3.8.8"
  }
 },
 "nbformat": 4,
 "nbformat_minor": 5
}
