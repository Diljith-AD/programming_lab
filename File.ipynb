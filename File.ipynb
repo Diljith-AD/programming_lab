{
 "cells": [
  {
   "cell_type": "code",
   "execution_count": 10,
   "id": "e02b28af-6eca-4ba2-9551-3ab1e0f23f0b",
   "metadata": {
    "scrolled": true
   },
   "outputs": [
    {
     "name": "stdout",
     "output_type": "stream",
     "text": [
      "The line-storm clouds fly tattered and swift, \n",
      "\n",
      "The road is forlorn all day, \n",
      "\n",
      "Where a myriad snowy quartz stones lift, \n",
      "\n",
      "And the hoof-prints vanish away.\n"
     ]
    }
   ],
   "source": [
    "file=open('untitled.txt', \"r\")\n",
    "fileread=file.readlines()\n",
    "for i in fileread:\n",
    "    print(i)\n",
    "file.close()"
   ]
  },
  {
   "cell_type": "code",
   "execution_count": 19,
   "id": "b43d7ad3-51d9-4b26-b9b0-2bacf5b55572",
   "metadata": {},
   "outputs": [
    {
     "name": "stdout",
     "output_type": "stream",
     "text": [
      "file1 copied to file2\n",
      "['The road is forlorn all day, \\n', 'And the hoof-prints vanish away.']\n"
     ]
    }
   ],
   "source": [
    "file1=open('untitled.txt', \"r\")\n",
    "file2=open('myfile.txt', 'w')\n",
    "lines1=file1.readlines()\n",
    "for i in range(len(lines1)):\n",
    "    if i%2!=0:\n",
    "        file2.writelines(lines1[i])\n",
    "file1.close()\n",
    "file2.close()\n",
    "print(\"file1 copied to file2\")\n",
    "file2=open('myfile.txt','r')\n",
    "lines2=file2.readlines()\n",
    "print(lines2)\n"
   ]
  },
  {
   "cell_type": "code",
   "execution_count": 31,
   "id": "06f4dc3d-1795-401b-b6f3-523537fc092a",
   "metadata": {},
   "outputs": [
    {
     "name": "stdout",
     "output_type": "stream",
     "text": [
      "['Name', 'Abbreviation', 'Numeric', 'Numeric-2']\n",
      "['Monday', 'Mon.', '1', '01']\n",
      "['Tuesday', 'Tue.', '2', '02']\n",
      "['Wednesday', 'Wed.', '3', '03']\n",
      "['Thursday', 'Thu.', '4', '04']\n",
      "['Friday', 'Fri.', '5', '05']\n",
      "['Saturday', 'Sat.', '6', '06']\n",
      "['Sunday', 'Sun.', '7', '07']\n"
     ]
    }
   ],
   "source": [
    "import csv\n",
    "csv1=open('weekday.csv','r')\n",
    "csvrow=csv.reader(csv1)\n",
    "for i in csvrow:\n",
    "    print(i)\n",
    "csv1.close()"
   ]
  },
  {
   "cell_type": "code",
   "execution_count": 37,
   "id": "6bc3bd6d-c7ac-4357-b052-22b965b35fca",
   "metadata": {},
   "outputs": [
    {
     "name": "stdin",
     "output_type": "stream",
     "text": [
      "Enter the column no: 0\n"
     ]
    },
    {
     "name": "stdout",
     "output_type": "stream",
     "text": [
      "Name\n",
      "Monday\n",
      "Tuesday\n",
      "Wednesday\n",
      "Thursday\n",
      "Friday\n",
      "Saturday\n",
      "Sunday\n"
     ]
    }
   ],
   "source": [
    "import csv\n",
    "csv1=open('weekday.csv','r')\n",
    "csvrow=csv.reader(csv1)\n",
    "col=int(input(\"Enter the column no:\"))\n",
    "for i in csvrow:\n",
    "    if col<len(i):\n",
    "        print(i[col])\n",
    "csv1.close()"
   ]
  },
  {
   "cell_type": "code",
   "execution_count": 44,
   "id": "f31dfb22-67fe-4d37-8c5f-ed5cd78512a0",
   "metadata": {},
   "outputs": [
    {
     "name": "stdin",
     "output_type": "stream",
     "text": [
      "Enter the filename: example.csv\n"
     ]
    },
    {
     "name": "stdout",
     "output_type": "stream",
     "text": [
      "['name', 'age', 'roll no']\n",
      "['dijith', '21', '14']\n"
     ]
    }
   ],
   "source": [
    "import csv\n",
    "dict={'name':'dijith','age':21,'roll no':14}\n",
    "file=input(\"Enter the filename:\")\n",
    "csvopen=open(file,\"w\", newline=\"\")\n",
    "csvwrite=csv.DictWriter(csvopen,fieldnames=dict.keys())\n",
    "csvwrite.writeheader()\n",
    "csvwrite.writerow(dict)\n",
    "csvopen.close()\n",
    "csvopen=open(file,'r')\n",
    "csvread=csv.reader(csvopen)\n",
    "for i in csvread:\n",
    "    print(i)\n",
    "csvopen.close()"
   ]
  },
  {
   "cell_type": "code",
   "execution_count": null,
   "id": "bf006e3d-445c-480d-8d41-1af0b5a216ef",
   "metadata": {},
   "outputs": [],
   "source": []
  }
 ],
 "metadata": {
  "kernelspec": {
   "display_name": "Python 3 (ipykernel)",
   "language": "python",
   "name": "python3"
  },
  "language_info": {
   "codemirror_mode": {
    "name": "ipython",
    "version": 3
   },
   "file_extension": ".py",
   "mimetype": "text/x-python",
   "name": "python",
   "nbconvert_exporter": "python",
   "pygments_lexer": "ipython3",
   "version": "3.11.5"
  }
 },
 "nbformat": 4,
 "nbformat_minor": 5
}
