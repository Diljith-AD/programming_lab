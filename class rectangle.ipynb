{
 "cells": [
  {
   "cell_type": "code",
   "execution_count": 6,
   "id": "c7352d33",
   "metadata": {},
   "outputs": [
    {
     "name": "stdin",
     "output_type": "stream",
     "text": [
      "Enter the length of the first rectangle: 6\n",
      "Enter the breadth of the first rectangle: 4\n",
      "Enter the length of the second rectangle: 6\n",
      "Enter the breadth of the second rectangle: 4\n"
     ]
    },
    {
     "name": "stdout",
     "output_type": "stream",
     "text": [
      "The area of 1st rectangle:24\n",
      "The perimeter of the 1st rectangle:20\n",
      "The area of 2st rectangle:24\n",
      "The perimeter of the 1st rectangle:20\n",
      "The area is the same\n"
     ]
    }
   ],
   "source": [
    "class rectangle:\n",
    "    def __init__(self,length,breadth):\n",
    "        self.length=length\n",
    "        self.breadth=breadth\n",
    "    def area(self):\n",
    "        return self.length*self.breadth\n",
    "\n",
    "    def perimeter(self):\n",
    "        return 2*(self.length+self.breadth)\n",
    "\n",
    "    def compare(self,other):\n",
    "        if(self.area()==other.area()):\n",
    "            return \"The area is the same\"\n",
    "        else:\n",
    "            return \"The area is not the same\"\n",
    "\n",
    "length1=int(input(\"Enter the length of the first rectangle:\"))\n",
    "breadth1=int(input(\"Enter the breadth of the first rectangle:\"))\n",
    "        \n",
    "length2=int(input(\"Enter the length of the second rectangle:\"))\n",
    "breadth2=int(input(\"Enter the breadth of the second rectangle:\"))\n",
    "\n",
    "rect1=rectangle(length1,breadth1)\n",
    "rect2=rectangle(length2,breadth2)\n",
    "\n",
    "print(f\"The area of 1st rectangle:{rect1.area()}\\nThe perimeter of the 1st rectangle:{rect1.perimeter()}\")\n",
    "print(f\"The area of 2st rectangle:{rect2.area()}\\nThe perimeter of the 1st rectangle:{rect2.perimeter()}\")\n",
    "\n",
    "print(f\"{rect1.compare(rect2)}\")"
   ]
  },
  {
   "cell_type": "code",
   "execution_count": null,
   "id": "f79ce365-c59c-40a6-b9c2-04fcc0f1edf1",
   "metadata": {},
   "outputs": [],
   "source": []
  }
 ],
 "metadata": {
  "kernelspec": {
   "display_name": "Python 3 (ipykernel)",
   "language": "python",
   "name": "python3"
  },
  "language_info": {
   "codemirror_mode": {
    "name": "ipython",
    "version": 3
   },
   "file_extension": ".py",
   "mimetype": "text/x-python",
   "name": "python",
   "nbconvert_exporter": "python",
   "pygments_lexer": "ipython3",
   "version": "3.11.5"
  }
 },
 "nbformat": 4,
 "nbformat_minor": 5
}
