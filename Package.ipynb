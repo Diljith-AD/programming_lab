{
 "cells": [
  {
   "cell_type": "code",
   "execution_count": 1,
   "id": "38d60dce-3cd8-4df9-88b8-5837b977d258",
   "metadata": {},
   "outputs": [
    {
     "name": "stdout",
     "output_type": "stream",
     "text": [
      "Area of rectangle 4\n",
      "Perimeter of rectangle 14\n",
      "Area of circle 56.519999999999996\n",
      "perimeter of circle 25.12\n",
      "Area of sphere 314.0\n",
      "Perimeter of sphere 267.94666666666666\n",
      "Area of cuboid 104\n",
      "Perimeter of cuboid 36\n"
     ]
    }
   ],
   "source": [
    "from graphics import rectangle\n",
    "from graphics import circle\n",
    "from graphics.threeD_graphics import cuboid\n",
    "from graphics.threeD_graphics import sphere\n",
    "a=rectangle.area(2,2)\n",
    "b=rectangle.perimeter(3,4)\n",
    "c=circle.area(3)\n",
    "d=circle.perimeter(4)\n",
    "e=sphere.area(5)\n",
    "f=sphere.perimeter(4)\n",
    "g=cuboid.area(3,4,2)\n",
    "h=cuboid.perimeter(2,3,4)\n",
    "print(\"Area of rectangle\",a)\n",
    "print(\"Perimeter of rectangle\",b)\n",
    "print(\"Area of circle\",c)\n",
    "print(\"perimeter of circle\",d)\n",
    "print(\"Area of sphere\",e)\n",
    "print(\"Perimeter of sphere\",f)\n",
    "print(\"Area of cuboid\",g)\n",
    "print(\"Perimeter of cuboid\",h)"
   ]
  },
  {
   "cell_type": "code",
   "execution_count": null,
   "id": "9941fc59-80c9-46cb-a42a-c4a11b27ba1b",
   "metadata": {},
   "outputs": [],
   "source": []
  }
 ],
 "metadata": {
  "kernelspec": {
   "display_name": "Python 3 (ipykernel)",
   "language": "python",
   "name": "python3"
  },
  "language_info": {
   "codemirror_mode": {
    "name": "ipython",
    "version": 3
   },
   "file_extension": ".py",
   "mimetype": "text/x-python",
   "name": "python",
   "nbconvert_exporter": "python",
   "pygments_lexer": "ipython3",
   "version": "3.11.5"
  }
 },
 "nbformat": 4,
 "nbformat_minor": 5
}
