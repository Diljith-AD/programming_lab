{
 "cells": [
  {
   "cell_type": "code",
   "execution_count": 15,
   "id": "b1b8383b-706a-4e28-bc89-9fb885e51711",
   "metadata": {},
   "outputs": [
    {
     "name": "stdout",
     "output_type": "stream",
     "text": [
      "3 hours 56 minutes 15 seconds\n"
     ]
    }
   ],
   "source": [
    "class Time:\n",
    "    def __init__(self,hour,minute,second):\n",
    "        self.__hour=hour\n",
    "        self.__minute=minute\n",
    "        self.__second=second\n",
    "        \n",
    "    def __add__(self,other):\n",
    "        total_hour=self.__hour+other.__hour\n",
    "        total_minute=self.__minute+other.__minute\n",
    "        total_second=self.__second+other.__second\n",
    "        if total_second>=60:\n",
    "            total_second-=60\n",
    "            total_minute+=1\n",
    "        if total_minute>=60:\n",
    "            total_minute-=60\n",
    "            total_hour+=1\n",
    "        return str(total_hour)+\" hours \"+str(total_minute)+\" minutes \"+str(total_second)+\" seconds\"\n",
    "time1=Time(1,56,15)\n",
    "time2=Time(2,00,00)\n",
    "print(time1+time2)\n",
    "        "
   ]
  },
  {
   "cell_type": "code",
   "execution_count": null,
   "id": "5de32488-52d7-43ab-9a30-3e6f3d4e1539",
   "metadata": {},
   "outputs": [],
   "source": []
  }
 ],
 "metadata": {
  "kernelspec": {
   "display_name": "Python 3 (ipykernel)",
   "language": "python",
   "name": "python3"
  },
  "language_info": {
   "codemirror_mode": {
    "name": "ipython",
    "version": 3
   },
   "file_extension": ".py",
   "mimetype": "text/x-python",
   "name": "python",
   "nbconvert_exporter": "python",
   "pygments_lexer": "ipython3",
   "version": "3.11.5"
  }
 },
 "nbformat": 4,
 "nbformat_minor": 5
}
